{
 "cells": [
  {
   "cell_type": "code",
   "execution_count": 1,
   "id": "261b40d8-1a0c-4a8f-9284-b1a356753a53",
   "metadata": {},
   "outputs": [],
   "source": [
    "from glob import glob\n",
    "import numpy as np\n",
    "import xarray as xr\n",
    "import salem\n",
    "import cartopy.crs as ccrs"
   ]
  },
  {
   "cell_type": "code",
   "execution_count": 2,
   "id": "babb3175-9894-4d84-a742-01187b15dca4",
   "metadata": {},
   "outputs": [
    {
     "name": "stdout",
     "output_type": "stream",
     "text": [
      "80\n"
     ]
    }
   ],
   "source": [
    "import multiprocessing as mp\n",
    "print(mp.cpu_count())\n",
    "num_processes = mp.cpu_count() - 5"
   ]
  },
  {
   "cell_type": "code",
   "execution_count": 3,
   "id": "42907c64-8043-478f-ac25-c6e752ddf54e",
   "metadata": {},
   "outputs": [],
   "source": [
    "# TGW path\n",
    "tgw_path = '/home/shared/vs498_0001/im3_hyperfacets_tgw'"
   ]
  },
  {
   "cell_type": "code",
   "execution_count": 4,
   "id": "02a8e1aa-6c20-4a60-b1b6-273aaefba351",
   "metadata": {},
   "outputs": [],
   "source": [
    "# Get Ithaca lat/lon in TGW coords\n",
    "lat, lon = 42.443333, -76.5\n",
    "\n",
    "ds_tmp = salem.open_wrf_dataset(f'{tgw_path}/historical_1980_2019/hourly/tgw_wrf_historical_hourly_2006-09-03_01_00_00.nc')\n",
    "ds_crs = ccrs.Projection(ds_tmp.pyproj_srs)\n",
    "x, y = ds_crs.transform_point(lon, lat, src_crs=ccrs.PlateCarree())"
   ]
  },
  {
   "cell_type": "code",
   "execution_count": 5,
   "id": "d2a9a1b6-6fa0-4c4e-b222-f5747b6181d7",
   "metadata": {},
   "outputs": [],
   "source": [
    "# Function to process individual TGW file\n",
    "def preprocess_tgw(file):\n",
    "    # Variables to keep\n",
    "    var_names = ['T2C', 'WSPD', 'PRCP', 'SFROFF', 'SNOW']\n",
    "    try:\n",
    "        # Read\n",
    "        ds = salem.open_wrf_dataset(file)[var_names]\n",
    "        # Select Ithaca location\n",
    "        ds_sel = ds.sel({'west_east': x, 'south_north': y}, method=\"nearest\", drop=True)\n",
    "        # Resample to daily\n",
    "        ds_sel_daily = xr.merge([\n",
    "            ds_sel['T2C'].resample(time='1D').max(),\n",
    "            ds_sel['WSPD'].resample(time='1D').max(),\n",
    "            ds_sel['PRCP'].resample(time='1D').sum(),\n",
    "            ds_sel['SFROFF'].resample(time='1D').sum(),\n",
    "            ds_sel['SNOW'].resample(time='1D').sum(),\n",
    "        ])\n",
    "        # return \n",
    "        return ds_sel_daily\n",
    "    except Exception as e:\n",
    "        print(f\"Error processing file {file}: {str(e)}\")\n",
    "        return None"
   ]
  },
  {
   "cell_type": "code",
   "execution_count": 6,
   "id": "4b8e96b3-2fa0-4464-9ea5-3ea7530def18",
   "metadata": {},
   "outputs": [],
   "source": [
    "# Function to process list of TGW files\n",
    "def process_tgw_files(files):\n",
    "    # Parallelize with mp\n",
    "    with mp.Pool(processes=num_processes) as pool:\n",
    "        # Map the worker function to all tasks\n",
    "        results = pool.map(preprocess_tgw, np.sort(files)[:50])\n",
    "            \n",
    "        # Filter out None results\n",
    "        ds_all = [ds for ds in results if ds is not None]\n",
    "\n",
    "    # Calculate annual maxima and store\n",
    "    df = xr.concat(ds_all, dim='time').resample(time='YE').max().to_dataframe()\n",
    "    df = df.drop(columns=['lat', 'lon', 'west_east', 'south_north']).reset_index()\n",
    "    return df"
   ]
  },
  {
   "cell_type": "code",
   "execution_count": 7,
   "id": "18733e3f-827e-4c0e-808c-5a80e6e7a3da",
   "metadata": {},
   "outputs": [
    {
     "name": "stdout",
     "output_type": "stream",
     "text": [
      "CPU times: user 101 ms, sys: 224 ms, total: 325 ms\n",
      "Wall time: 5min 6s\n"
     ]
    }
   ],
   "source": [
    "%%time\n",
    "# Process TGW historical\n",
    "scenario = 'historical_1980_2019'\n",
    "files = glob(f'{tgw_path}/{scenario}/hourly/*.nc')\n",
    "\n",
    "df = process_tgw_files(files)"
   ]
  },
  {
   "cell_type": "code",
   "execution_count": 8,
   "id": "523385fb-346c-4d6a-95f4-ead786495e96",
   "metadata": {},
   "outputs": [
    {
     "data": {
      "text/html": [
       "<div>\n",
       "<style scoped>\n",
       "    .dataframe tbody tr th:only-of-type {\n",
       "        vertical-align: middle;\n",
       "    }\n",
       "\n",
       "    .dataframe tbody tr th {\n",
       "        vertical-align: top;\n",
       "    }\n",
       "\n",
       "    .dataframe thead th {\n",
       "        text-align: right;\n",
       "    }\n",
       "</style>\n",
       "<table border=\"1\" class=\"dataframe\">\n",
       "  <thead>\n",
       "    <tr style=\"text-align: right;\">\n",
       "      <th></th>\n",
       "      <th>time</th>\n",
       "      <th>T2C</th>\n",
       "      <th>WSPD</th>\n",
       "      <th>PRCP</th>\n",
       "      <th>SFROFF</th>\n",
       "      <th>SNOW</th>\n",
       "    </tr>\n",
       "  </thead>\n",
       "  <tbody>\n",
       "    <tr>\n",
       "      <th>0</th>\n",
       "      <td>1980-12-31</td>\n",
       "      <td>32.4263</td>\n",
       "      <td>16.602165</td>\n",
       "      <td>38.049194</td>\n",
       "      <td>6140.94043</td>\n",
       "      <td>706.901611</td>\n",
       "    </tr>\n",
       "  </tbody>\n",
       "</table>\n",
       "</div>"
      ],
      "text/plain": [
       "        time      T2C       WSPD       PRCP      SFROFF        SNOW\n",
       "0 1980-12-31  32.4263  16.602165  38.049194  6140.94043  706.901611"
      ]
     },
     "execution_count": 8,
     "metadata": {},
     "output_type": "execute_result"
    }
   ],
   "source": [
    "df"
   ]
  },
  {
   "cell_type": "code",
   "execution_count": null,
   "id": "08300a5b-65fa-4871-bdd5-bacafd288dc3",
   "metadata": {},
   "outputs": [],
   "source": [
    "%%time\n",
    "# Process TGW future scenarios\n",
    "scenarios = ['rcp45cooler', 'rcp45hotter', 'rcp85cooler', 'rcp85hotter']\n",
    "for scenario in scenarios:\n",
    "    # Get all file names\n",
    "    folders = glob(f'{tgw_path}/{scenario}*')\n",
    "    files = np.array([glob(f'{folder}/hourly/*.nc') for folder in folders]).flatten()\n",
    "    # Compute\n",
    "    df = process_tgw_files(files)"
   ]
  }
 ],
 "metadata": {
  "kernelspec": {
   "display_name": "Python 3 (ipykernel)",
   "language": "python",
   "name": "python3"
  },
  "language_info": {
   "codemirror_mode": {
    "name": "ipython",
    "version": 3
   },
   "file_extension": ".py",
   "mimetype": "text/x-python",
   "name": "python",
   "nbconvert_exporter": "python",
   "pygments_lexer": "ipython3",
   "version": "3.12.8"
  }
 },
 "nbformat": 4,
 "nbformat_minor": 5
}
